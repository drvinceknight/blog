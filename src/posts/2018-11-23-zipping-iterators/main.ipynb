{
 "cells": [
  {
   "cell_type": "raw",
   "metadata": {
    "tags": [
     "post_metadata"
    ]
   },
   "source": [
    "title: Iterating over many lists at the same time in Python with `zip`\n",
    "description: An overview of the awesome `zip` generator in Python."
   ]
  },
  {
   "cell_type": "markdown",
   "metadata": {},
   "source": [
    "When programming it is often necessary to iterate over two (or more) lists. This post will describe `zip`: a fantastic tool for doing this in a clear and concise way.\n",
    "\n",
    "As a running example, let us assume we would like to check if 3 numbers \\\\(a, b, c\\\\) form a pythagorean triplet, in other words:\n",
    "\n",
    "\\\\[\n",
    "    a ^ 2 + b ^ 2 = c ^ 2\n",
    "\\\\]\n",
    "\n",
    "For the purpose of this example let us start by randomly creating 3 lists of numbers:"
   ]
  },
  {
   "cell_type": "code",
   "execution_count": 1,
   "metadata": {},
   "outputs": [],
   "source": [
    "import random\n",
    "\n",
    "random.seed(0)\n",
    "\n",
    "upper_value = 50\n",
    "number_of_values = 10 ** 5\n",
    "list_of_a_values = [random.randint(1, upper_value + 1) for _ in range(number_of_values)]\n",
    "list_of_b_values = [random.randint(1, upper_value + 1) for _ in range(number_of_values)]\n",
    "list_of_c_values = [random.randint(1, upper_value + 1) for _ in range(number_of_values)]"
   ]
  },
  {
   "cell_type": "markdown",
   "metadata": {},
   "source": [
    "Here are our first 5 values of \\\\(a\\\\):"
   ]
  },
  {
   "cell_type": "code",
   "execution_count": 2,
   "metadata": {},
   "outputs": [
    {
     "data": {
      "text/plain": [
       "[25, 49, 27, 3, 17]"
      ]
     },
     "execution_count": 2,
     "metadata": {},
     "output_type": "execute_result"
    }
   ],
   "source": [
    "list_of_a_values[:5]"
   ]
  },
  {
   "cell_type": "markdown",
   "metadata": {},
   "source": [
    "### A common approach\n",
    "\n",
    "One commone approach would be to create a dummy variable that will keep track of a position that goes through all 3 lists:"
   ]
  },
  {
   "cell_type": "code",
   "execution_count": 3,
   "metadata": {},
   "outputs": [],
   "source": [
    "pythagorian_triplets = []\n",
    "for i in range(number_of_values):\n",
    "    if list_of_a_values[i] ** 2 + list_of_b_values[i] ** 2 == list_of_c_values[i] ** 2:\n",
    "        pythagorian_triplets.append(\n",
    "            (\n",
    "                list_of_a_values[i], \n",
    "                list_of_b_values[i], \n",
    "                list_of_c_values[i],\n",
    "            )\n",
    "        )"
   ]
  },
  {
   "cell_type": "code",
   "execution_count": 4,
   "metadata": {},
   "outputs": [
    {
     "data": {
      "text/plain": [
       "[(12, 35, 37),\n",
       " (20, 21, 29),\n",
       " (45, 24, 51),\n",
       " (36, 27, 45),\n",
       " (36, 15, 39),\n",
       " (9, 12, 15),\n",
       " (3, 4, 5),\n",
       " (18, 24, 30),\n",
       " (10, 24, 26),\n",
       " (24, 18, 30),\n",
       " (10, 24, 26),\n",
       " (35, 12, 37),\n",
       " (4, 3, 5),\n",
       " (30, 16, 34),\n",
       " (4, 3, 5),\n",
       " (48, 14, 50),\n",
       " (30, 40, 50),\n",
       " (8, 6, 10),\n",
       " (30, 16, 34),\n",
       " (28, 21, 35),\n",
       " (45, 24, 51),\n",
       " (24, 45, 51),\n",
       " (18, 24, 30),\n",
       " (18, 24, 30),\n",
       " (24, 18, 30),\n",
       " (9, 12, 15),\n",
       " (35, 12, 37),\n",
       " (9, 12, 15)]"
      ]
     },
     "execution_count": 4,
     "metadata": {},
     "output_type": "execute_result"
    }
   ],
   "source": [
    "pythagorian_triplets"
   ]
  },
  {
   "cell_type": "markdown",
   "metadata": {},
   "source": [
    "### Zipping our lists together\n",
    "\n",
    "Another approach is to use python's `zip` command, this will essentially \"zip\" the three lists together"
   ]
  },
  {
   "cell_type": "code",
   "execution_count": 5,
   "metadata": {},
   "outputs": [
    {
     "data": {
      "text/plain": [
       "[(12, 35, 37),\n",
       " (20, 21, 29),\n",
       " (45, 24, 51),\n",
       " (36, 27, 45),\n",
       " (36, 15, 39),\n",
       " (9, 12, 15),\n",
       " (3, 4, 5),\n",
       " (18, 24, 30),\n",
       " (10, 24, 26),\n",
       " (24, 18, 30),\n",
       " (10, 24, 26),\n",
       " (35, 12, 37),\n",
       " (4, 3, 5),\n",
       " (30, 16, 34),\n",
       " (4, 3, 5),\n",
       " (48, 14, 50),\n",
       " (30, 40, 50),\n",
       " (8, 6, 10),\n",
       " (30, 16, 34),\n",
       " (28, 21, 35),\n",
       " (45, 24, 51),\n",
       " (24, 45, 51),\n",
       " (18, 24, 30),\n",
       " (18, 24, 30),\n",
       " (24, 18, 30),\n",
       " (9, 12, 15),\n",
       " (35, 12, 37),\n",
       " (9, 12, 15)]"
      ]
     },
     "execution_count": 5,
     "metadata": {},
     "output_type": "execute_result"
    }
   ],
   "source": [
    "pythagorian_triplets = []\n",
    "for item in zip(list_of_a_values, list_of_b_values, list_of_c_values):\n",
    "    if item[0] ** 2 + item[1] ** 2 == item[2] ** 2:\n",
    "        pythagorian_triplets.append(item)\n",
    "pythagorian_triplets"
   ]
  },
  {
   "cell_type": "markdown",
   "metadata": {},
   "source": [
    "What `zip` is doing here is taking a list of inputs, in this case `list_of_a_values, list_of_b_values, list_of_c_values` (it can take any number of inputs) and returning a python object that can be iterated over. Each iteration takes an element from each of the inputs.\n",
    "\n",
    "We can use python unpacking and list comprehensions to write this in a more compact way:"
   ]
  },
  {
   "cell_type": "code",
   "execution_count": 6,
   "metadata": {},
   "outputs": [
    {
     "data": {
      "text/plain": [
       "[(12, 35, 37),\n",
       " (20, 21, 29),\n",
       " (45, 24, 51),\n",
       " (36, 27, 45),\n",
       " (36, 15, 39),\n",
       " (9, 12, 15),\n",
       " (3, 4, 5),\n",
       " (18, 24, 30),\n",
       " (10, 24, 26),\n",
       " (24, 18, 30),\n",
       " (10, 24, 26),\n",
       " (35, 12, 37),\n",
       " (4, 3, 5),\n",
       " (30, 16, 34),\n",
       " (4, 3, 5),\n",
       " (48, 14, 50),\n",
       " (30, 40, 50),\n",
       " (8, 6, 10),\n",
       " (30, 16, 34),\n",
       " (28, 21, 35),\n",
       " (45, 24, 51),\n",
       " (24, 45, 51),\n",
       " (18, 24, 30),\n",
       " (18, 24, 30),\n",
       " (24, 18, 30),\n",
       " (9, 12, 15),\n",
       " (35, 12, 37),\n",
       " (9, 12, 15)]"
      ]
     },
     "execution_count": 6,
     "metadata": {},
     "output_type": "execute_result"
    }
   ],
   "source": [
    "pythagorian_triplets = [(a, b, c) for a, b, c in zip(list_of_a_values, list_of_b_values, list_of_c_values)\n",
    "                        if a ** 2 + b ** 2 == c ** 2]\n",
    "pythagorian_triplets"
   ]
  },
  {
   "cell_type": "markdown",
   "metadata": {},
   "source": [
    "### Unpacking and zipping\n",
    "\n",
    "Using numpy we can in fact make this slightly more efficient as we can generate a large 3 by N array of random integers (note that numpy's random number generator does not follow the same seeded path as python's standard lib):"
   ]
  },
  {
   "cell_type": "code",
   "execution_count": 7,
   "metadata": {},
   "outputs": [],
   "source": [
    "import numpy as np"
   ]
  },
  {
   "cell_type": "code",
   "execution_count": 8,
   "metadata": {},
   "outputs": [
    {
     "data": {
      "text/plain": [
       "array([[45, 48,  1, ..., 33, 20, 20],\n",
       "       [11, 40, 11, ..., 20, 21,  9],\n",
       "       [31, 21,  4, ...,  2, 49, 30]])"
      ]
     },
     "execution_count": 8,
     "metadata": {},
     "output_type": "execute_result"
    }
   ],
   "source": [
    "np.random.seed(0)\n",
    "random_integers = np.random.randint(1, upper_value, (3, number_of_values))\n",
    "random_integers"
   ]
  },
  {
   "cell_type": "markdown",
   "metadata": {},
   "source": [
    "We can now use python unpacking with the `*` command to pass each row of our array directly to `zip` without having to name them:"
   ]
  },
  {
   "cell_type": "code",
   "execution_count": 9,
   "metadata": {},
   "outputs": [
    {
     "data": {
      "text/plain": [
       "[(8, 15, 17),\n",
       " (24, 32, 40),\n",
       " (36, 27, 45),\n",
       " (6, 8, 10),\n",
       " (12, 16, 20),\n",
       " (21, 28, 35),\n",
       " (20, 15, 25),\n",
       " (6, 8, 10),\n",
       " (32, 24, 40),\n",
       " (7, 24, 25),\n",
       " (24, 10, 26),\n",
       " (35, 12, 37),\n",
       " (9, 12, 15),\n",
       " (3, 4, 5),\n",
       " (27, 36, 45),\n",
       " (40, 9, 41),\n",
       " (4, 3, 5),\n",
       " (9, 40, 41),\n",
       " (20, 15, 25),\n",
       " (15, 36, 39),\n",
       " (24, 32, 40),\n",
       " (15, 20, 25),\n",
       " (24, 10, 26),\n",
       " (15, 8, 17),\n",
       " (12, 9, 15),\n",
       " (24, 32, 40),\n",
       " (35, 12, 37),\n",
       " (32, 24, 40),\n",
       " (10, 24, 26),\n",
       " (9, 40, 41),\n",
       " (12, 9, 15),\n",
       " (24, 10, 26),\n",
       " (36, 27, 45),\n",
       " (24, 7, 25)]"
      ]
     },
     "execution_count": 9,
     "metadata": {},
     "output_type": "execute_result"
    }
   ],
   "source": [
    "pythagorian_triplets = [(a, b, c) for a, b, c in zip(*random_integers) \n",
    "                        if a ** 2 + b ** 2 == c ** 2]\n",
    "pythagorian_triplets"
   ]
  },
  {
   "cell_type": "markdown",
   "metadata": {},
   "source": [
    "`zip` is one of those super handy python commands that once you've gotten the hang off you never want to be without, [`enumerate`](http://book.pythontips.com/en/latest/enumerate.html) is another such tool. "
   ]
  }
 ],
 "metadata": {
  "celltoolbar": "Tags",
  "kernelspec": {
   "display_name": "Python [conda root]",
   "language": "python",
   "name": "conda-root-py"
  },
  "language_info": {
   "codemirror_mode": {
    "name": "ipython",
    "version": 3
   },
   "file_extension": ".py",
   "mimetype": "text/x-python",
   "name": "python",
   "nbconvert_exporter": "python",
   "pygments_lexer": "ipython3",
   "version": "3.6.6"
  }
 },
 "nbformat": 4,
 "nbformat_minor": 2
}
