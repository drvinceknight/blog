{
 "cells": [
  {
   "cell_type": "raw",
   "metadata": {
    "tags": [
     "post_metadata"
    ]
   },
   "source": [
    "title: Comparing different methods for computing steady state probabilities of continuous time Markov chains using Python\n",
    "description: Continuous time Markov chains can be used to model a variety of systems, computing there steady state probabilities can be done a number of different ways."
   ]
  },
  {
   "cell_type": "code",
   "execution_count": 1,
   "metadata": {
    "tags": [
     "ignore"
    ]
   },
   "outputs": [],
   "source": [
    "from IPython.display import set_matplotlib_formats\n",
    "set_matplotlib_formats('png', 'svg')"
   ]
  },
  {
   "cell_type": "markdown",
   "metadata": {},
   "source": [
    "A [continuous time Markov chain](https://en.wikipedia.org/wiki/Markov_chain) is used to model a system with a set of states and where rates of changes from one state to another are known.\n",
    "\n",
    "A common example of this is what is denoted as an **M/M/c/K** queue, this corresponds to a system with **M**arkovian arrival and service distributions, **c** servers and a total capacity for **K** individuals.\n",
    "\n",
    "With an arrival rate \\\\(\\lambda\\\\) and a service rate \\\\(\\mu\\\\) then we can write down a matrix \\\\(Q\\\\) that essentially defines our chain.\n",
    "\n",
    "Illustrating this with a concrete example an **M/M/1/3** queue can be in 1 of 4 states: 0, 1, 2 or 3 individuals. The rate at which the system goes from 2 to 3 individuals is \\\\(\\lambda\\\\) and the rate of which it goes from 2 to 1 is \\\\(\\mu\\\\). The matrix \\\\(Q\\\\) that captures this is:\n",
    "\n",
    "\n",
    "\\\\[\n",
    "Q = \n",
    "\\begin{pmatrix}\n",
    "    -\\lambda          & \\lambda           & 0                 & 0 \\\\\n",
    "    \\mu               & -(\\lambda + \\mu) &  \\lambda          & 0 \\\\\n",
    "    0                 & \\mu               & -(\\lambda + \\mu) & \\lambda\\\\\n",
    "    0                 & 0                 & \\mu               & -\\mu \\\\\n",
    "\\end{pmatrix}\n",
    "\\\\]\n",
    "\n",
    "what is used to study this types of stochastic systems is a probability vector \\\\(\\pi\\\\) which keeps track of the probability of the system being in a given state. For our example, \\\\(\\pi=(1, 0, 0, 0)\\\\) would imply that there is 0 individuals in the system, \\\\(\\pi=(1/4, 1/4, 1/4, 1/4)\\\\) implies that there is an equal chance of being in any given state.\n",
    "\n",
    "The relationship between \\\\(Q\\\\) and \\\\(\\pi\\\\) is given by the following differential equation:\n",
    "\n",
    "\\\\[\n",
    "    \\frac{d\\pi}{dt} = \\pi Q\n",
    "\\\\]\n",
    "\n",
    "This is an example of a linear homogenous differential equation.\n",
    "\n",
    "Let us illustrate some of this with some code. First let us build a function that gives us a \\\\(Q\\\\) for given parameters:"
   ]
  },
  {
   "cell_type": "code",
   "execution_count": 2,
   "metadata": {},
   "outputs": [],
   "source": [
    "import numpy as np\n",
    "\n",
    "def get_transition_matrix(\n",
    "    number_of_servers,\n",
    "    total_capacity,\n",
    "    arrival_rate,\n",
    "    service_rate\n",
    "):\n",
    "    \"\"\"\n",
    "    Obtain Q for an M/M/c/K queue with given parameters:\n",
    "    \n",
    "    - number_of_servers: c\n",
    "    - total_capacity: K\n",
    "    - arrival_rate: lambda\n",
    "    - service_rate: mu\n",
    "    \"\"\"\n",
    "    Q = np.zeros((total_capacity + 1, total_capacity + 1))\n",
    "    \n",
    "    for i in range(total_capacity + 1):\n",
    "        total_rate = 0\n",
    "        \n",
    "        if i < total_capacity:\n",
    "            Q[i, i + 1] = arrival_rate\n",
    "            total_rate += Q[i, i + 1]\n",
    "        \n",
    "        if i > 0:\n",
    "            Q[i, i - 1] = min(i, number_of_servers) * service_rate\n",
    "            total_rate += Q[i, i - 1]\n",
    "        \n",
    "        Q[i, i] = - total_rate\n",
    "        \n",
    "    return Q\n",
    "\n",
    "\n",
    "# A test\n",
    "expected_Q_MM23 = np.array([[-1.,  1.,  0.,  0.],\n",
    "                            [ 2., -3.,  1.,  0.],\n",
    "                            [ 0.,  4., -5.,  1.],\n",
    "                            [ 0.,  0.,  4., -4.]])\n",
    "assert np.array_equal(\n",
    "    get_transition_matrix(\n",
    "        number_of_servers=2, \n",
    "        total_capacity=3, \n",
    "        arrival_rate=1, \n",
    "        service_rate=2),\n",
    "    expected_Q_MM23\n",
    ")"
   ]
  },
  {
   "cell_type": "code",
   "execution_count": 3,
   "metadata": {},
   "outputs": [
    {
     "data": {
      "text/plain": [
       "array([[-1.,  1.,  0.,  0.],\n",
       "       [ 2., -3.,  1.,  0.],\n",
       "       [ 0.,  2., -3.,  1.],\n",
       "       [ 0.,  0.,  2., -2.]])"
      ]
     },
     "execution_count": 3,
     "metadata": {},
     "output_type": "execute_result"
    }
   ],
   "source": [
    "Q = get_transition_matrix(number_of_servers=1, total_capacity=3, arrival_rate=1, service_rate=2)\n",
    "Q"
   ]
  },
  {
   "cell_type": "markdown",
   "metadata": {},
   "source": [
    "What specifically is of interest is the steady state of a continuous Markov chain, in other words a state for which the derivative is 0:\n",
    "\n",
    "\\\\[\n",
    "    \\frac{d\\pi}{dt} = \\pi Q = 0\n",
    "\\\\]\n",
    "\n",
    "We can easily check if any given state is a steady state:"
   ]
  },
  {
   "cell_type": "code",
   "execution_count": 4,
   "metadata": {},
   "outputs": [],
   "source": [
    "def is_steady_state(state, Q):\n",
    "    \"\"\"\n",
    "    Returns a boolean as to whether a given state is a steady \n",
    "    state of the Markov chain corresponding to the matrix Q\n",
    "    \"\"\"\n",
    "    return np.allclose((state @ Q), 0)\n",
    "\n",
    "state = np.array([1 / 4, 1 / 4, 1 / 4, 1 / 4])\n",
    "assert not is_steady_state(state=state, Q=Q)"
   ]
  },
  {
   "cell_type": "code",
   "execution_count": 5,
   "metadata": {},
   "outputs": [
    {
     "data": {
      "text/plain": [
       "False"
      ]
     },
     "execution_count": 5,
     "metadata": {},
     "output_type": "execute_result"
    }
   ],
   "source": [
    "state = np.array([1 / 4, 1 / 4, 1 / 4, 1 / 4])\n",
    "is_steady_state(state=state, Q=Q)"
   ]
  },
  {
   "cell_type": "markdown",
   "metadata": {},
   "source": [
    "#### Using a discrete event simulation\n",
    "\n",
    "One approach is directly simulate the underlying queueing process using the matrix \\\\(Q\\\\). A row of \\\\(Q\\\\) gives the rates at which the system moves to other states so we can sample transition rates from the corresponding exponential distribution."
   ]
  },
  {
   "cell_type": "code",
   "execution_count": 6,
   "metadata": {},
   "outputs": [],
   "source": [
    "import collections\n",
    "\n",
    "def run_simulation(\n",
    "    Q, \n",
    "    max_time=10000, \n",
    "    warmup_time=500,\n",
    "    seed=None,\n",
    "):\n",
    "    \"\"\"\n",
    "    Run a single simulation of the continuous markov chain that corresponds to Q.\n",
    "    \"\"\"\n",
    "    if seed is not None:\n",
    "        np.random.seed(seed)\n",
    "    \n",
    "    dimension = Q.shape[0]\n",
    "    state, clock = 0, 0\n",
    "    history = {}\n",
    "    while clock < max_time:\n",
    "        \n",
    "        row = Q[state]\n",
    "        potential_states = np.where(row > 0)[0]\n",
    "        rates = row[potential_states]\n",
    "        samples = np.random.exponential(1 / rates)\n",
    "        time = np.min(samples)\n",
    "        clock += time\n",
    "        \n",
    "        if clock > warmup_time:\n",
    "            try:\n",
    "                history[state] += time\n",
    "            except KeyError:\n",
    "                history[state] = time\n",
    "                \n",
    "        state = potential_states[np.argmin(samples)]\n",
    "    return collections.Counter(history)\n",
    "\n",
    "def history_to_state(history, dimension):\n",
    "    \"\"\"\n",
    "    Convert a history (a Counter dict) to a probability vector.\n",
    "    \"\"\"\n",
    "    total_time = np.sum(list(history.values()))\n",
    "    return np.array([history.get(state, 0) for state in range(dimension)]) / total_time\n",
    "    \n",
    "def obtain_steady_state_by_discrete_event_simulation(\n",
    "    Q,\n",
    "    max_time=10 ** 3, \n",
    "    warmup_time=(10 ** 3) / 2,\n",
    "    number_of_repetitions=100,\n",
    "):\n",
    "    \"\"\"\n",
    "    Repeteadly simulate the Markov chain that corresponds to a matrix Q.\n",
    "    \"\"\"\n",
    "    \n",
    "    dimension = Q.shape[0]\n",
    "    history = run_simulation(Q=Q, max_time=max_time, warmup_time=warmup_time)\n",
    "    state = history_to_state(history=history, dimension=dimension)\n",
    "    \n",
    "    for seed in range(number_of_repetitions):\n",
    "        history += run_simulation(Q=Q, max_time=max_time, warmup_time=warmup_time, seed=seed)\n",
    "    state = history_to_state(history=history, dimension=dimension)\n",
    "    return state"
   ]
  },
  {
   "cell_type": "code",
   "execution_count": 7,
   "metadata": {},
   "outputs": [
    {
     "data": {
      "text/plain": [
       "array([ 0.53294226,  0.26698136,  0.13330914,  0.06676725])"
      ]
     },
     "execution_count": 7,
     "metadata": {},
     "output_type": "execute_result"
    }
   ],
   "source": [
    "state = obtain_steady_state_by_discrete_event_simulation(Q)\n",
    "state"
   ]
  },
  {
   "cell_type": "markdown",
   "metadata": {},
   "source": [
    "This specific approach has quite a long computatonal run time, and although the resulting state has a low derivative it still is quite high:"
   ]
  },
  {
   "cell_type": "code",
   "execution_count": 8,
   "metadata": {},
   "outputs": [
    {
     "data": {
      "text/plain": [
       "array([ 0.00102046, -0.00138355,  0.00058845, -0.00022536])"
      ]
     },
     "execution_count": 8,
     "metadata": {},
     "output_type": "execute_result"
    }
   ],
   "source": [
    "state @ Q"
   ]
  },
  {
   "cell_type": "code",
   "execution_count": 9,
   "metadata": {},
   "outputs": [
    {
     "data": {
      "text/plain": [
       "False"
      ]
     },
     "execution_count": 9,
     "metadata": {},
     "output_type": "execute_result"
    }
   ],
   "source": [
    "is_steady_state(state=state, Q=Q)"
   ]
  },
  {
   "cell_type": "markdown",
   "metadata": {},
   "source": [
    "We will now consider a number of different approaches based on the mathematical structures available to us:\n",
    "\n",
    "- Numeric integration;\n",
    "- Matrix exponential;\n",
    "- Eigenvector;\n",
    "- Solve a linear algebraic system;\n",
    "- Approximately solving a linear algebraic system.\n",
    "\n",
    "#### Solving the defining differential equation numerically\n",
    "\n",
    "One approach to observing our system over time is to solve the defining differential equation numerically. We will do this here using scipy's [odeint](https://docs.scipy.org/doc/scipy/reference/generated/scipy.integrate.odeint.html) which implements the lsoda from the FORTRAN library odepack."
   ]
  },
  {
   "cell_type": "code",
   "execution_count": 10,
   "metadata": {},
   "outputs": [],
   "source": [
    "from scipy.integrate import odeint\n",
    "\n",
    "def obtain_steady_state_numerically(\n",
    "    Q, \n",
    "    max_t=100, \n",
    "    number_of_timepoints=1000\n",
    "):\n",
    "    \"\"\"\n",
    "    Solve the defining differential equation until it converges.\n",
    "    \n",
    "    - Q: the transition matrix\n",
    "    - max_t: the maximum time for which the differential equation is solved\n",
    "    - number_of_time_points: the number of time points\n",
    "    \"\"\"\n",
    "    \n",
    "    def dx(x, t):\n",
    "        return x @ Q\n",
    "    \n",
    "    dimension = Q.shape[0]\n",
    "    state = np.ones(dimension) / dimension\n",
    "    \n",
    "    while not is_steady_state(state=state, Q=Q):\n",
    "        ts = np.linspace(0, max_t, number_of_timepoints)\n",
    "        xs = odeint(func=dx, y0=state, t=ts)\n",
    "        state = xs[-1]\n",
    "    \n",
    "    return state"
   ]
  },
  {
   "cell_type": "code",
   "execution_count": 11,
   "metadata": {},
   "outputs": [],
   "source": [
    "Q = get_transition_matrix(number_of_servers=2, total_capacity=3, arrival_rate=1, service_rate=2)\n",
    "state = obtain_steady_state_numerically(Q=Q)"
   ]
  },
  {
   "cell_type": "code",
   "execution_count": 12,
   "metadata": {},
   "outputs": [
    {
     "data": {
      "text/plain": [
       "True"
      ]
     },
     "execution_count": 12,
     "metadata": {},
     "output_type": "execute_result"
    }
   ],
   "source": [
    "is_steady_state(state=state, Q=Q)"
   ]
  },
  {
   "cell_type": "code",
   "execution_count": 13,
   "metadata": {},
   "outputs": [
    {
     "data": {
      "text/plain": [
       "array([ 0.60377358,  0.30188679,  0.0754717 ,  0.01886792])"
      ]
     },
     "execution_count": 13,
     "metadata": {},
     "output_type": "execute_result"
    }
   ],
   "source": [
    "state"
   ]
  },
  {
   "cell_type": "markdown",
   "metadata": {},
   "source": [
    "#### Using the matrix exponential\n",
    "\n",
    "We can also solve our differential equation analytically:\n",
    "\n",
    "\n",
    "\\\\[\n",
    "    \\frac{d\\pi}{dt} = \\pi Q  \\Rightarrow \\pi(t) = \\pi(0)e ^{Qt}\n",
    "\\\\]\n",
    "\n",
    "where the matrix exponential can be computed using scipy's [`linalg.expm`](https://docs.scipy.org/doc/scipy-0.15.1/reference/generated/scipy.linalg.expm.html) which implements an algorithm from [Awad H. Al-Mohy and Nicholas J. Higham (2009) \"A New Scaling and Squaring Algorithm for the Matrix Exponential.\"](http://eprints.ma.man.ac.uk/1300/1/covered/MIMS_ep2009_9.pdf)."
   ]
  },
  {
   "cell_type": "code",
   "execution_count": 14,
   "metadata": {},
   "outputs": [],
   "source": [
    "import scipy as sp\n",
    "\n",
    "\n",
    "def obtain_steady_state_with_matrix_exponential(Q, max_t=100):\n",
    "    \"\"\"\n",
    "    Solve the defining differential equation until it converges.\n",
    "    \n",
    "    - Q: the transition matrix\n",
    "    - max_t: the maximum time for which the differential equation is solved at each attempt.\n",
    "    \"\"\"\n",
    "    \n",
    "    dimension = Q.shape[0]\n",
    "    state = np.ones(dimension) / dimension\n",
    "    \n",
    "    while not is_steady_state(state=state, Q=Q):\n",
    "        state = state @ sp.linalg.expm(Q * max_t)\n",
    "    \n",
    "    return state"
   ]
  },
  {
   "cell_type": "code",
   "execution_count": 15,
   "metadata": {},
   "outputs": [
    {
     "data": {
      "text/plain": [
       "array([ 0.60377358,  0.30188679,  0.0754717 ,  0.01886792])"
      ]
     },
     "execution_count": 15,
     "metadata": {},
     "output_type": "execute_result"
    }
   ],
   "source": [
    "state = obtain_steady_state_with_matrix_exponential(Q=Q)\n",
    "state"
   ]
  },
  {
   "cell_type": "markdown",
   "metadata": {},
   "source": [
    "#### Using the 0-eigenvalue\n",
    "\n",
    "The matrix equation \\\\(\\pi Q = 0\\\\) implies that \\(\\pi\\) is the eigenvector that corresponds to the eigenvalue \\\\(0\\\\).\n",
    "\n",
    "We can thus obtain the steady state probability by finding the eigenvectors and eigenvalues which is implemented in numpy's [`linalg.eig`](https://docs.scipy.org/doc/numpy-1.15.1/reference/generated/numpy.linalg.eig.html)."
   ]
  },
  {
   "cell_type": "code",
   "execution_count": 16,
   "metadata": {},
   "outputs": [],
   "source": [
    "def obtain_steady_state_with_eigenvectors(Q):\n",
    "    \"\"\"\n",
    "    Obtain the steady state vector as the eigenvector that corresponds to the eigenvalue 0.\n",
    "    \n",
    "    - Q: the transition matrix\n",
    "    \"\"\"\n",
    "    \n",
    "    vals, vecs = np.linalg.eig(Q.transpose())\n",
    "\n",
    "    zero_eigenvector = vecs.transpose()[np.argmin(np.abs(vals))]\n",
    "    \n",
    "    return zero_eigenvector / np.sum(zero_eigenvector)"
   ]
  },
  {
   "cell_type": "code",
   "execution_count": 17,
   "metadata": {},
   "outputs": [
    {
     "data": {
      "text/plain": [
       "array([ 0.60377358,  0.30188679,  0.0754717 ,  0.01886792])"
      ]
     },
     "execution_count": 17,
     "metadata": {},
     "output_type": "execute_result"
    }
   ],
   "source": [
    "obtain_steady_state_with_eigenvectors(Q)"
   ]
  },
  {
   "cell_type": "markdown",
   "metadata": {},
   "source": [
    "#### Linear algebraic approach\n",
    "\n",
    "Another approach is to solve the linear equation:\n",
    "\n",
    "\\\\[\n",
    "\\pi Q=0\\text{ and }\\sum_i \\pi_i = 1\n",
    "\\\\]\n",
    "\n",
    "We do this by augmenting the matrix \\\\(Q\\\\) to include the extra equation:\n",
    "\n",
    "\\\\[\n",
    "M = \n",
    "\\begin{pmatrix}\n",
    "\\tilde Q^T\\\\\n",
    "1\\dots1\n",
    "\\end{pmatrix}\n",
    "\\\\]\n",
    "\n",
    "and defining \\\\(b\\\\) to be:\n",
    "\n",
    "\\\\[\n",
    "b = \\begin{pmatrix}\n",
    "0\\\\\n",
    "\\vdots\\\\\n",
    "0\\\\\n",
    "1\n",
    "\\end{pmatrix}\n",
    "\\\\]\n",
    "\n",
    "\\\\(\\tilde Q\\\\) is the matrix \\\\(Q\\\\) with a column removed. This is because to solve our linear system we need \\\\(M\\\\) to be a square matrix. In practice below we remove the last column.\n",
    "\n",
    "Thus the steady state vector \\\\(\\pi\\\\) is a solution to:\n",
    "\n",
    "\\\\[\n",
    "M\\pi=b\n",
    "\\\\]\n",
    "\n",
    "we can then solve this using numpy's [`linal.solve`](https://docs.scipy.org/doc/numpy-1.15.0/reference/generated/numpy.linalg.solve.html)."
   ]
  },
  {
   "cell_type": "code",
   "execution_count": 18,
   "metadata": {},
   "outputs": [],
   "source": [
    "def augment_Q(Q):\n",
    "    dimension = Q.shape[0]\n",
    "    M = np.vstack((Q.transpose()[:-1], np.ones(dimension)))\n",
    "    b = np.vstack((np.zeros((dimension - 1, 1)), [1]))\n",
    "    return M, b"
   ]
  },
  {
   "cell_type": "code",
   "execution_count": 19,
   "metadata": {},
   "outputs": [],
   "source": [
    "def obtain_steady_state_linear_algebraically(Q):\n",
    "    \"\"\"\n",
    "    Obtain the steady state vector as the solution of a linear algebraic system.\n",
    "    \n",
    "    - Q: the transition matrix\n",
    "    \"\"\"\n",
    "    M, b = augment_Q(Q)\n",
    "    return np.linalg.solve(M, b).transpose()[0]"
   ]
  },
  {
   "cell_type": "code",
   "execution_count": 20,
   "metadata": {},
   "outputs": [
    {
     "data": {
      "text/plain": [
       "array([ 0.60377358,  0.30188679,  0.0754717 ,  0.01886792])"
      ]
     },
     "execution_count": 20,
     "metadata": {},
     "output_type": "execute_result"
    }
   ],
   "source": [
    "obtain_steady_state_linear_algebraically(Q)"
   ]
  },
  {
   "cell_type": "markdown",
   "metadata": {},
   "source": [
    "#### Using least squares\n",
    "\n",
    "When faced with a linear system, it is very rarely a good idea to actually solve it (see this post by John D. Cook as a good explanation of this: https://www.johndcook.com/blog/2010/01/19/dont-invert-that-matrix/), instead we can use a least squares approximation where we are aiming to find:\n",
    "\n",
    "\\\\[\n",
    "    \\text{argmin}_{x\\in\\mathbb{R}^{d}}\\|Mx-b\\|_2^2\n",
    "\\\\]\n",
    "\n",
    "we do this using numpy's [`linalg.lstsq`](https://docs.scipy.org/doc/numpy/reference/generated/numpy.linalg.lstsq.html)."
   ]
  },
  {
   "cell_type": "code",
   "execution_count": 21,
   "metadata": {},
   "outputs": [],
   "source": [
    "def obtain_steady_state_using_least_squares(Q):\n",
    "    \"\"\"\n",
    "    Obtain the steady state vector as the vector that \n",
    "    gives the minimum of a least squares optimisation problem.\n",
    "    \n",
    "    - Q: the transition matrix\n",
    "    \"\"\"\n",
    "    M, b = augment_Q(Q)\n",
    "    pi, _, _, _ = np.linalg.lstsq(M, b)\n",
    "    return pi.transpose()[0]"
   ]
  },
  {
   "cell_type": "code",
   "execution_count": 22,
   "metadata": {},
   "outputs": [
    {
     "data": {
      "text/plain": [
       "array([ 0.60377358,  0.30188679,  0.0754717 ,  0.01886792])"
      ]
     },
     "execution_count": 22,
     "metadata": {},
     "output_type": "execute_result"
    }
   ],
   "source": [
    "obtain_steady_state_using_least_squares(Q)"
   ]
  },
  {
   "cell_type": "markdown",
   "metadata": {},
   "source": [
    "With all of these methods in hand we will now collect timing data for matrices of growing size. For each experiment we will consider a large number of repetitions to attempt to smooth out errors. All data is archived and available here: \n",
    "\n",
    "[![DOI](https://zenodo.org/badge/DOI/10.5281/zenodo.2429025.svg)](https://doi.org/10.5281/zenodo.2429025)\n",
    "\n",
    "\n",
    "\n",
    "### Timing experiments\n",
    "\n",
    "One of the main reasons for using an **M/M/c/K** as an example is that it gives a nice structured experiment that can be used to compare performance of each approach."
   ]
  },
  {
   "cell_type": "code",
   "execution_count": 23,
   "metadata": {},
   "outputs": [],
   "source": [
    "import time\n",
    "\n",
    "def timed_algorithm(Q, algorithm):\n",
    "    now = time.time()\n",
    "    pi = algorithm(Q)\n",
    "    time_taken = time.time() - now\n",
    "    return time_taken, pi"
   ]
  },
  {
   "cell_type": "code",
   "execution_count": 24,
   "metadata": {},
   "outputs": [],
   "source": [
    "def calculate_mean_occupancy(state):\n",
    "    dimension = state.shape[0]\n",
    "    return np.sum(state *  np.arange(0, dimension))"
   ]
  },
  {
   "cell_type": "code",
   "execution_count": 25,
   "metadata": {},
   "outputs": [
    {
     "name": "stderr",
     "output_type": "stream",
     "text": [
      "/home/vince/anaconda3/lib/python3.6/site-packages/IPython/core/interactiveshell.py:3020: DtypeWarning: Columns (4) have mixed types. Specify dtype option on import or set low_memory=False.\n",
      "  interactivity=interactivity, compiler=compiler, result=result)\n"
     ]
    }
   ],
   "source": [
    "import pathlib\n",
    "import csv\n",
    "import pandas as pd\n",
    "\n",
    "try:\n",
    "    df = pd.read_csv(\"data/main.csv\")\n",
    "\n",
    "except FileNotFoundError: # If the data is not available locally get it from archive\n",
    "    df = pd.read_csv(\"https://zenodo.org/record/2429025/files/main.csv?download=1\")\n",
    "    path = pathlib.Path(\"./data\")\n",
    "    path.mkdir(exist_ok=True)\n",
    "    outpath = path/\"main.csv\"\n",
    "    df.to_csv(str(outpath))\n",
    "\n",
    "except FileNotFoundError: # If the data is not there generate it (note this takes a while)\n",
    "    algorithms = (\n",
    "        obtain_steady_state_linear_algebraically, \n",
    "        obtain_steady_state_numerically, \n",
    "        obtain_steady_state_using_least_squares,\n",
    "        obtain_steady_state_with_eigenvectors,\n",
    "        obtain_steady_state_with_matrix_exponential,\n",
    "    )\n",
    "\n",
    "    names = (\n",
    "        \"Linear algebra\", \n",
    "        \"Numeric integration\", \n",
    "        \"Least squares\", \n",
    "        \"Eigenvectors\", \n",
    "        \"Matrix exponential\"\n",
    "    )\n",
    "\n",
    "    capacity_range = range(3, 300 + 1)\n",
    "    number_of_servers = 1\n",
    "    arrival_rate = 1\n",
    "    service_rate = 2\n",
    "    repetitions = 500\n",
    "\n",
    "    data = {\n",
    "        \"algorithm\":[],\n",
    "        \"repetition\": [],\n",
    "        \"K\": [],\n",
    "        \"time\": [],\n",
    "        \"mean occupancy\": [],\n",
    "           }\n",
    "\n",
    "    path = pathlib.Path(\"./data\")\n",
    "    path.mkdir(exist_ok=True)\n",
    "    outpath = path/\"main.csv\"\n",
    "\n",
    "    header = (\"algorithm\", \"repetition\", \"K\", \"time\", \"mean occupancy\")\n",
    "\n",
    "    def write_row(row, path=outpath, mode=\"w\"):   \n",
    "        with open(str(path), mode) as f:\n",
    "            writer = csv.writer(f)\n",
    "            writer.writerow(row)\n",
    "\n",
    "    write_row(header)\n",
    "\n",
    "\n",
    "    for K in capacity_range:\n",
    "        Q = get_transition_matrix(\n",
    "                    number_of_servers=number_of_servers, \n",
    "                    total_capacity=K, \n",
    "                    arrival_rate=arrival_rate, \n",
    "                    service_rate=service_rate,\n",
    "                )\n",
    "        for repetition in range(repetitions):\n",
    "            for algorithm, label in zip(algorithms, names):\n",
    "                time_taken, pi = timed_algorithm(Q, algorithm)\n",
    "                mean_occupancy = calculate_mean_occupancy(pi)\n",
    "\n",
    "                write_row((label, repetition, K, time_taken, mean_occupancy), mode=\"a\")\n",
    "    df = pd.read_csv(\"data/main.csv\")"
   ]
  },
  {
   "cell_type": "markdown",
   "metadata": {},
   "source": [
    "If we take a look at the data we see we get timing data for each method for a number of runs. Note we're calculating the mean occupancy as a way of validating our data (to confirm that each method has worked properly)."
   ]
  },
  {
   "cell_type": "code",
   "execution_count": 26,
   "metadata": {},
   "outputs": [
    {
     "data": {
      "text/html": [
       "<div>\n",
       "<style scoped>\n",
       "    .dataframe tbody tr th:only-of-type {\n",
       "        vertical-align: middle;\n",
       "    }\n",
       "\n",
       "    .dataframe tbody tr th {\n",
       "        vertical-align: top;\n",
       "    }\n",
       "\n",
       "    .dataframe thead th {\n",
       "        text-align: right;\n",
       "    }\n",
       "</style>\n",
       "<table border=\"1\" class=\"dataframe\">\n",
       "  <thead>\n",
       "    <tr style=\"text-align: right;\">\n",
       "      <th></th>\n",
       "      <th>algorithm</th>\n",
       "      <th>repetition</th>\n",
       "      <th>K</th>\n",
       "      <th>time</th>\n",
       "      <th>mean occupancy</th>\n",
       "    </tr>\n",
       "  </thead>\n",
       "  <tbody>\n",
       "    <tr>\n",
       "      <th>0</th>\n",
       "      <td>Linear algebra</td>\n",
       "      <td>0</td>\n",
       "      <td>3</td>\n",
       "      <td>0.000378</td>\n",
       "      <td>0.733333</td>\n",
       "    </tr>\n",
       "    <tr>\n",
       "      <th>1</th>\n",
       "      <td>Numeric integration</td>\n",
       "      <td>0</td>\n",
       "      <td>3</td>\n",
       "      <td>0.002190</td>\n",
       "      <td>0.733333</td>\n",
       "    </tr>\n",
       "    <tr>\n",
       "      <th>2</th>\n",
       "      <td>Least squares</td>\n",
       "      <td>0</td>\n",
       "      <td>3</td>\n",
       "      <td>0.000362</td>\n",
       "      <td>0.733333</td>\n",
       "    </tr>\n",
       "    <tr>\n",
       "      <th>3</th>\n",
       "      <td>Eigenvectors</td>\n",
       "      <td>0</td>\n",
       "      <td>3</td>\n",
       "      <td>0.000191</td>\n",
       "      <td>0.733333</td>\n",
       "    </tr>\n",
       "    <tr>\n",
       "      <th>4</th>\n",
       "      <td>Matrix exponential</td>\n",
       "      <td>0</td>\n",
       "      <td>3</td>\n",
       "      <td>0.000811</td>\n",
       "      <td>0.733333</td>\n",
       "    </tr>\n",
       "  </tbody>\n",
       "</table>\n",
       "</div>"
      ],
      "text/plain": [
       "             algorithm  repetition  K      time mean occupancy\n",
       "0       Linear algebra           0  3  0.000378       0.733333\n",
       "1  Numeric integration           0  3  0.002190       0.733333\n",
       "2        Least squares           0  3  0.000362       0.733333\n",
       "3         Eigenvectors           0  3  0.000191       0.733333\n",
       "4   Matrix exponential           0  3  0.000811       0.733333"
      ]
     },
     "execution_count": 26,
     "metadata": {},
     "output_type": "execute_result"
    }
   ],
   "source": [
    "df.head()"
   ]
  },
  {
   "cell_type": "markdown",
   "metadata": {},
   "source": [
    "Let us know take a look at the median times for each algorithm:"
   ]
  },
  {
   "cell_type": "code",
   "execution_count": 27,
   "metadata": {},
   "outputs": [
    {
     "data": {
      "image/png": "[encoded data removed]",
      "text/plain": [
       "<Figure size 432x288 with 1 Axes>"
      ]
     },
     "metadata": {},
     "output_type": "display_data"
    }
   ],
   "source": [
    "import matplotlib.pyplot as plt\n",
    "%matplotlib inline\n",
    "\n",
    "plt.figure()\n",
    "for algorithm, dataframe  in df.groupby(\"algorithm\"):\n",
    "    data = [(K, data[\"time\"].median()) for K, data in dataframe.groupby(\"K\")]\n",
    "    plt.scatter(*zip(*data), label=algorithm)\n",
    "plt.title(\"Median time\")\n",
    "plt.xlabel(\"$K$\")\n",
    "plt.ylabel(\"Time (seconds)\")\n",
    "plt.legend();"
   ]
  },
  {
   "cell_type": "markdown",
   "metadata": {},
   "source": [
    "We see that the Matrix exponential approach seems to quickly become a bad way of doing this however no other real comparison is possible due to the seperate scales. Let us rescale all our data by dividing by the median and max value for each size (across all methods)."
   ]
  },
  {
   "cell_type": "code",
   "execution_count": 28,
   "metadata": {},
   "outputs": [
    {
     "data": {
      "image/png": "[encoded data removed]",
      "text/plain": [
       "<Figure size 1080x360 with 2 Axes>"
      ]
     },
     "metadata": {},
     "output_type": "display_data"
    }
   ],
   "source": [
    "median_times = df.groupby(\"K\")[\"time\"].median()\n",
    "\n",
    "fig, axarr = plt.subplots(1, 2, figsize=(15, 5))\n",
    "\n",
    "ax = axarr[0]\n",
    "for algorithm, dataframe  in df.groupby(\"algorithm\"):\n",
    "    data = [(K, data[\"time\"].median() / median_times[K]) for K, data in dataframe.groupby(\"K\")]\n",
    "    ax.scatter(*zip(*data), label=algorithm)\n",
    "ax.set_title(\"Median Time / Median time over all algorithms\")\n",
    "ax.set_xlabel(\"$K$\")\n",
    "ax.legend()\n",
    "\n",
    "max_times = df.groupby(\"K\")[\"time\"].max()\n",
    "\n",
    "ax = axarr[1]\n",
    "for algorithm, dataframe  in df.groupby(\"algorithm\"):\n",
    "    data = [(K, data[\"time\"].median() / max_times[K]) for K, data in dataframe.groupby(\"K\")]\n",
    "    ax.scatter(*zip(*data), label=algorithm)\n",
    "ax.set_title(\"Median Time / Max time over all algorithms\")\n",
    "ax.set_xlabel(\"$K$\");"
   ]
  },
  {
   "cell_type": "markdown",
   "metadata": {},
   "source": [
    "#### Conclusion\n",
    "\n",
    "Comparing all these approaches is seems like the faster way to compute the stationary vector for a continuous time Markov chain is as a direct solution of a linear algebraic system.\n",
    "\n",
    "Some caveats:\n",
    "\n",
    "- We have considered a very structered matrix that corresponds to a queueing system: perhaps the sparse nature of the matrix implies this conclusion does not extend to all continuous Markov chains.\n",
    "- We have only gone up to matrices of size 300.\n",
    "- For some systems, writing down the state space itself can have a high computational memory cost (indeed at some times it's not even possible). In those cases a simulation approach is actually quite a good way to do this as we can let the simulation explore the state space at will, the python library [ciw](http://ciw.readthedocs.io/en/latest/) is one piece of software with which to do this."
   ]
  }
 ],
 "metadata": {
  "celltoolbar": "Tags",
  "kernelspec": {
   "display_name": "Python [conda root]",
   "language": "python",
   "name": "conda-root-py"
  },
  "language_info": {
   "codemirror_mode": {
    "name": "ipython",
    "version": 3
   },
   "file_extension": ".py",
   "mimetype": "text/x-python",
   "name": "python",
   "nbconvert_exporter": "python",
   "pygments_lexer": "ipython3",
   "version": "3.6.6"
  }
 },
 "nbformat": 4,
 "nbformat_minor": 2
}
