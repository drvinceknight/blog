{
 "cells": [
  {
   "cell_type": "raw",
   "metadata": {
    "tags": [
     "post_metadata"
    ]
   },
   "source": [
    "title: Probability, risk, uncertainty and the Ellsberg paradox\n",
    "description: Exploree the Ellsberg paradox with python"
   ]
  },
  {
   "cell_type": "code",
   "execution_count": 4,
   "metadata": {},
   "outputs": [],
   "source": [
    "from IPython.display import set_matplotlib_formats\n",
    "set_matplotlib_formats('png', 'svg')"
   ]
  },
  {
   "cell_type": "markdown",
   "metadata": {},
   "source": [
    "I listened to the first episode of a new podcast called \"No Stupid Questions\". The particular episode entitled: \"https://freakonomics.com/podcast/nsq-handshake/\" looked at some of the impact of the COVID isolation and the topic of Risk versus Uncertainty came up.\n",
    "\n",
    "This turns out to be a well"
   ]
  }
 ],
 "metadata": {
  "celltoolbar": "Tags",
  "kernelspec": {
   "display_name": "blog",
   "language": "python",
   "name": "blog"
  },
  "language_info": {
   "codemirror_mode": {
    "name": "ipython",
    "version": 3
   },
   "file_extension": ".py",
   "mimetype": "text/x-python",
   "name": "python",
   "nbconvert_exporter": "python",
   "pygments_lexer": "ipython3",
   "version": "3.6.6"
  }
 },
 "nbformat": 4,
 "nbformat_minor": 2
}
